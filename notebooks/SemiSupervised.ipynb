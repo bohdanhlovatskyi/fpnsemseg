{
 "cells": [
  {
   "cell_type": "code",
   "execution_count": 18,
   "id": "f504f7ff",
   "metadata": {},
   "outputs": [],
   "source": [
    "import sys\n",
    "import torch\n",
    "import torchvision\n",
    "import torch.nn as nn\n",
    "import torch.nn.functional as F"
   ]
  },
  {
   "cell_type": "code",
   "execution_count": 19,
   "id": "0e274609",
   "metadata": {},
   "outputs": [],
   "source": [
    "sys.path.append(\"..\")"
   ]
  },
  {
   "cell_type": "code",
   "execution_count": 20,
   "id": "cffc49fd",
   "metadata": {},
   "outputs": [],
   "source": [
    "from models.fpn import FPN"
   ]
  },
  {
   "cell_type": "code",
   "execution_count": 43,
   "id": "2e0eab1b",
   "metadata": {},
   "outputs": [],
   "source": [
    "def get_encoder(pretrained: str = \"random\"):\n",
    "    \n",
    "    if pretrained == \"random\":\n",
    "        encoder = torchvision.models.resnet34(weights=None)\n",
    "    elif pretrained == \"imagenet\":\n",
    "        encoder = torchvision.models.resnet34(pretrained=True)\n",
    "#     elif pretrained == \"unsupervised\":\n",
    "#         encoder = get_unsupervised_pretrained_encoder()\n",
    "\n",
    "    return encoder, [512, 512, 256, 128, 64],\n",
    "\n",
    "class SemiSupervisedNetwork(nn.Module):\n",
    "    \n",
    "    def __init__(self, training: bool = True):\n",
    "        super().__init__()\n",
    "        \n",
    "        self.training = training\n",
    "        self.ema_decay = 0.99\n",
    "\n",
    "        self.b1 = FPN(pretrained=\"random\", classes=1)\n",
    "        self.b2 = FPN(pretrained=\"random\", classes=1)\n",
    "        \n",
    "        for param in self.b2.parameters():\n",
    "            param.detach_()\n",
    "            \n",
    "        for t_param, s_param in zip(self.b2.parameters(), self.b1.parameters()):\n",
    "            t_param.data.copy_(s_param.data)\n",
    "        \n",
    "    def forward(self, x, update_w: bool = False):\n",
    "        \n",
    "        if not self.training:\n",
    "            pred = self.b1(x)\n",
    "            return pred\n",
    "          \n",
    "        s_out = self.b1(x)\n",
    "        \n",
    "        with torch.no_grad():\n",
    "            t_out = self.b2(x)\n",
    "            \n",
    "        if update_w:\n",
    "            self._update_ema_variables(self.ema_decay) \n",
    "            \n",
    "        return s_out, t_out\n",
    "    \n",
    "    def _update_ema_variables(self, ema_decay):\n",
    "        for t_param, s_param in zip(self.b2.parameters(), self.b1.parameters()):\n",
    "            t_param.data.mul_(ema_decay).add_(1 - ema_decay, s_param.data)\n",
    "        "
   ]
  },
  {
   "cell_type": "code",
   "execution_count": 44,
   "id": "5d48fcdc",
   "metadata": {},
   "outputs": [],
   "source": [
    "m = SemiSupervisedNetwork()"
   ]
  },
  {
   "cell_type": "code",
   "execution_count": 45,
   "id": "55e7bd10",
   "metadata": {},
   "outputs": [],
   "source": [
    "# imgs = minibatch['data']\n",
    "# masks = minibatch['mask']\n",
    "# uimgs = minibatch['udata']\n",
    "\n",
    "imgs = torch.rand((2, 3, 256, 256))\n",
    "masks = torch.rand((2, 1, 256, 256))\n",
    "uimgs = torch.rand((2, 3, 256, 256))"
   ]
  },
  {
   "cell_type": "code",
   "execution_count": 46,
   "id": "534e669e",
   "metadata": {},
   "outputs": [],
   "source": [
    "sup_loss_fn = nn.BCEWithLogitsLoss()\n",
    "unsup_loss_fn = nn.MSELoss(reduction='mean')"
   ]
  },
  {
   "cell_type": "code",
   "execution_count": 54,
   "id": "6596db6c",
   "metadata": {},
   "outputs": [
    {
     "data": {
      "text/plain": [
       "(tensor(0.9371, grad_fn=<BinaryCrossEntropyWithLogitsBackward0>),\n",
       " tensor(0.2995, grad_fn=<MseLossBackward0>))"
      ]
     },
     "execution_count": 54,
     "metadata": {},
     "output_type": "execute_result"
    }
   ],
   "source": [
    "spreds, tpreds = m(imgs, update_w = True)\n",
    "sunpreds, tunpreds = m(uimgs, update_w = False)\n",
    "\n",
    "s_pred = torch.cat([spreds, sunpreds], dim=0)\n",
    "t_pred = torch.cat([tpreds, tunpreds], dim=0)\n",
    "\n",
    "loss_unsup = unsup_loss_fn(\n",
    "    F.sigmoid(s_pred).round(),\n",
    "    F.sigmoid(t_pred).round().detach())\n",
    "\n",
    "# supervised loss\n",
    "loss_sup = sup_loss_fn(spreds, masks)\n",
    "loss_sup, loss_unsup"
   ]
  },
  {
   "cell_type": "code",
   "execution_count": null,
   "id": "59519213",
   "metadata": {},
   "outputs": [],
   "source": []
  }
 ],
 "metadata": {
  "kernelspec": {
   "display_name": "Python 3 (ipykernel)",
   "language": "python",
   "name": "python3"
  },
  "language_info": {
   "codemirror_mode": {
    "name": "ipython",
    "version": 3
   },
   "file_extension": ".py",
   "mimetype": "text/x-python",
   "name": "python",
   "nbconvert_exporter": "python",
   "pygments_lexer": "ipython3",
   "version": "3.9.16"
  }
 },
 "nbformat": 4,
 "nbformat_minor": 5
}
